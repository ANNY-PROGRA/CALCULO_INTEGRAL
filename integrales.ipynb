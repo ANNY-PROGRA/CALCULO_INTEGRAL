{
 "cells": [
  {
   "cell_type": "code",
   "execution_count": 10,
   "id": "6e9c755f",
   "metadata": {},
   "outputs": [
    {
     "data": {
      "text/latex": [
       "$\\displaystyle 4 \\sqrt{x} + 3 x^{5} - 2 x^{1.5} - \\frac{1}{2 x^{2}}$"
      ],
      "text/plain": [
       "4*sqrt(x) + 3*x**5 - 2*x**1.5 - 1/(2*x**2)"
      ]
     },
     "execution_count": 10,
     "metadata": {},
     "output_type": "execute_result"
    }
   ],
   "source": [
    "import sympy as sp\n",
    "from sympy import sqrt\n",
    "x = sp.symbols('x')\n",
    "a=3*x**5-2*x**(3/2)+4*sqrt(x)-(1/(2*x**2))\n",
    "a\n"
   ]
  },
  {
   "cell_type": "code",
   "execution_count": 8,
   "id": "2dcbccad",
   "metadata": {},
   "outputs": [
    {
     "data": {
      "text/latex": [
       "$\\displaystyle \\frac{8 x^{\\frac{3}{2}}}{3} + \\frac{x^{6}}{2} - 0.8 x^{2.5} + \\frac{1}{2 x}$"
      ],
      "text/plain": [
       "8*x**(3/2)/3 + x**6/2 - 0.8*x**2.5 + 1/(2*x)"
      ]
     },
     "execution_count": 8,
     "metadata": {},
     "output_type": "execute_result"
    }
   ],
   "source": [
    "a_integrada=sp.integrate(a,x)\n",
    "a_integrada"
   ]
  },
  {
   "cell_type": "code",
   "execution_count": 13,
   "id": "ad276e33",
   "metadata": {},
   "outputs": [
    {
     "data": {
      "text/latex": [
       "$\\displaystyle \\frac{- 2 \\sqrt[3]{x} + x^{4} + 3 x^{2}}{\\sqrt{x^{5}}}$"
      ],
      "text/plain": [
       "(-2*x**(1/3) + x**4 + 3*x**2)/sqrt(x**5)"
      ]
     },
     "execution_count": 13,
     "metadata": {},
     "output_type": "execute_result"
    }
   ],
   "source": [
    "b=(x**4+3*x**2-2*(x**(sp.Rational(1,3))))/(sqrt(x**5))\n",
    "b"
   ]
  },
  {
   "cell_type": "code",
   "execution_count": 14,
   "id": "e2f0534b",
   "metadata": {},
   "outputs": [
    {
     "data": {
      "text/latex": [
       "$\\displaystyle \\frac{12 x^{\\frac{4}{3}}}{7 \\sqrt{x^{5}}} + \\frac{6 x^{3}}{\\sqrt{x^{5}}} + \\frac{2 \\sqrt{x^{5}}}{5}$"
      ],
      "text/plain": [
       "12*x**(4/3)/(7*sqrt(x**5)) + 6*x**3/sqrt(x**5) + 2*sqrt(x**5)/5"
      ]
     },
     "execution_count": 14,
     "metadata": {},
     "output_type": "execute_result"
    }
   ],
   "source": [
    "b_integrada=sp.integrate(b,x)\n",
    "b_integrada"
   ]
  },
  {
   "cell_type": "code",
   "execution_count": 41,
   "id": "2b5a4241",
   "metadata": {},
   "outputs": [
    {
     "data": {
      "text/latex": [
       "$\\displaystyle \\sqrt{\\sin{\\left(3 x \\right)}} \\cos{\\left(3 x \\right)}$"
      ],
      "text/plain": [
       "sqrt(sin(3*x))*cos(3*x)"
      ]
     },
     "execution_count": 41,
     "metadata": {},
     "output_type": "execute_result"
    }
   ],
   "source": [
    "term1 = sqrt(sp.sin(3*x))\n",
    "term2 = sp.cos(3*x)\n",
    "c = term1 * term2\n",
    "c\n"
   ]
  },
  {
   "cell_type": "code",
   "execution_count": 42,
   "id": "9a55ccc1",
   "metadata": {},
   "outputs": [
    {
     "data": {
      "text/latex": [
       "$\\displaystyle \\frac{2 \\sin^{\\frac{3}{2}}{\\left(3 x \\right)}}{9}$"
      ],
      "text/plain": [
       "2*sin(3*x)**(3/2)/9"
      ]
     },
     "execution_count": 42,
     "metadata": {},
     "output_type": "execute_result"
    }
   ],
   "source": [
    "c_integrada=sp.integrate(c,x)\n",
    "c_integrada"
   ]
  },
  {
   "cell_type": "code",
   "execution_count": 47,
   "id": "b8e40cf4",
   "metadata": {},
   "outputs": [
    {
     "data": {
      "text/latex": [
       "$\\displaystyle \\sin{\\left(x \\right)} + \\frac{\\cos{\\left(x \\right)}}{\\sin^{2}{\\left(x \\right)}}$"
      ],
      "text/plain": [
       "sin(x) + cos(x)/sin(x)**2"
      ]
     },
     "execution_count": 47,
     "metadata": {},
     "output_type": "execute_result"
    }
   ],
   "source": [
    "d=sp.sin(x)+(sp.cos(x)/(sp.sin(x)**2))\n",
    "d"
   ]
  },
  {
   "cell_type": "code",
   "execution_count": 48,
   "id": "d8889a77",
   "metadata": {},
   "outputs": [
    {
     "data": {
      "text/latex": [
       "$\\displaystyle - \\cos{\\left(x \\right)} - \\frac{1}{\\sin{\\left(x \\right)}}$"
      ],
      "text/plain": [
       "-cos(x) - 1/sin(x)"
      ]
     },
     "execution_count": 48,
     "metadata": {},
     "output_type": "execute_result"
    }
   ],
   "source": [
    "d_integrada=sp.integrate(d,x)\n",
    "d_integrada"
   ]
  },
  {
   "cell_type": "code",
   "execution_count": 51,
   "id": "149bb44a",
   "metadata": {},
   "outputs": [
    {
     "data": {
      "text/latex": [
       "$\\displaystyle \\frac{2 x^{4} - 3 x^{2} - 5 + \\frac{1}{x^{4}}}{x^{0.4}}$"
      ],
      "text/plain": [
       "(2*x**4 - 3*x**2 - 5 + x**(-4))/x**0.4"
      ]
     },
     "execution_count": 51,
     "metadata": {},
     "output_type": "execute_result"
    }
   ],
   "source": [
    "e=(2*x**4-3*x**2+x**(-4)-5)/x**(2/5)\n",
    "e"
   ]
  },
  {
   "cell_type": "code",
   "execution_count": 52,
   "id": "6cc953b7",
   "metadata": {},
   "outputs": [
    {
     "data": {
      "text/latex": [
       "$\\displaystyle - \\frac{0.294117647058823}{x^{3.4}} - 8.33333333333334 x^{0.6} - 1.15384615384615 x^{2.6} + 0.434782608695652 x^{4.6}$"
      ],
      "text/plain": [
       "-0.294117647058823/x**3.4 - 8.33333333333334*x**0.6 - 1.15384615384615*x**2.6 + 0.434782608695652*x**4.6"
      ]
     },
     "execution_count": 52,
     "metadata": {},
     "output_type": "execute_result"
    }
   ],
   "source": [
    "e_integrada=sp.integrate(e,x)\n",
    "e_integrada"
   ]
  },
  {
   "cell_type": "code",
   "execution_count": 54,
   "id": "512507d9",
   "metadata": {},
   "outputs": [
    {
     "data": {
      "text/latex": [
       "$\\displaystyle \\sqrt{x^{7}} + \\frac{1}{x \\sqrt{x^{5}}}$"
      ],
      "text/plain": [
       "sqrt(x**7) + 1/(x*sqrt(x**5))"
      ]
     },
     "execution_count": 54,
     "metadata": {},
     "output_type": "execute_result"
    }
   ],
   "source": [
    "term1=x\n",
    "term2=sqrt(x**5)\n",
    "f=sqrt(x**7)+(1/(term1*term2))\n",
    "f"
   ]
  },
  {
   "cell_type": "code",
   "execution_count": 55,
   "id": "9ec41144",
   "metadata": {},
   "outputs": [
    {
     "data": {
      "text/latex": [
       "$\\displaystyle \\frac{2 x \\sqrt{x^{7}}}{9} - \\frac{2}{5 \\sqrt{x^{5}}}$"
      ],
      "text/plain": [
       "2*x*sqrt(x**7)/9 - 2/(5*sqrt(x**5))"
      ]
     },
     "execution_count": 55,
     "metadata": {},
     "output_type": "execute_result"
    }
   ],
   "source": [
    "f_integrada=sp.integrate(f,x)\n",
    "f_integrada"
   ]
  },
  {
   "cell_type": "code",
   "execution_count": 56,
   "id": "9b5a89fe",
   "metadata": {},
   "outputs": [
    {
     "data": {
      "text/latex": [
       "$\\displaystyle \\frac{2 x}{x^{2} + 1}$"
      ],
      "text/plain": [
       "2*x/(x**2 + 1)"
      ]
     },
     "execution_count": 56,
     "metadata": {},
     "output_type": "execute_result"
    }
   ],
   "source": [
    "g=2*x/(x**2+1)\n",
    "g"
   ]
  },
  {
   "cell_type": "code",
   "execution_count": 57,
   "id": "417a77ea",
   "metadata": {},
   "outputs": [
    {
     "data": {
      "text/latex": [
       "$\\displaystyle \\log{\\left(x^{2} + 1 \\right)}$"
      ],
      "text/plain": [
       "log(x**2 + 1)"
      ]
     },
     "execution_count": 57,
     "metadata": {},
     "output_type": "execute_result"
    }
   ],
   "source": [
    "g_integrada=sp.integrate(g,x)\n",
    "g_integrada "
   ]
  },
  {
   "cell_type": "code",
   "execution_count": 59,
   "id": "7b82b517",
   "metadata": {},
   "outputs": [
    {
     "data": {
      "text/latex": [
       "$\\displaystyle x e^{x^{2}} + \\frac{9}{x}$"
      ],
      "text/plain": [
       "x*exp(x**2) + 9/x"
      ]
     },
     "execution_count": 59,
     "metadata": {},
     "output_type": "execute_result"
    }
   ],
   "source": [
    "term1 = x\n",
    "term2 = sp.exp(x**2)\n",
    "h=(term1 * term2)+(9/x)\n",
    "h"
   ]
  },
  {
   "cell_type": "code",
   "execution_count": 60,
   "id": "3d628cd4",
   "metadata": {},
   "outputs": [
    {
     "data": {
      "text/latex": [
       "$\\displaystyle \\frac{e^{x^{2}}}{2} + 9 \\log{\\left(x \\right)}$"
      ],
      "text/plain": [
       "exp(x**2)/2 + 9*log(x)"
      ]
     },
     "execution_count": 60,
     "metadata": {},
     "output_type": "execute_result"
    }
   ],
   "source": [
    "h_integrada=sp.integrate(h,x)\n",
    "h_integrada"
   ]
  },
  {
   "cell_type": "code",
   "execution_count": 61,
   "id": "99b95bec",
   "metadata": {},
   "outputs": [
    {
     "data": {
      "text/latex": [
       "$\\displaystyle \\sin^{3}{\\left(x \\right)}$"
      ],
      "text/plain": [
       "sin(x)**3"
      ]
     },
     "execution_count": 61,
     "metadata": {},
     "output_type": "execute_result"
    }
   ],
   "source": [
    "i=sp.sin(x)**3\n",
    "i"
   ]
  },
  {
   "cell_type": "code",
   "execution_count": 62,
   "id": "ab785df8",
   "metadata": {},
   "outputs": [
    {
     "data": {
      "text/latex": [
       "$\\displaystyle \\frac{\\cos^{3}{\\left(x \\right)}}{3} - \\cos{\\left(x \\right)}$"
      ],
      "text/plain": [
       "cos(x)**3/3 - cos(x)"
      ]
     },
     "execution_count": 62,
     "metadata": {},
     "output_type": "execute_result"
    }
   ],
   "source": [
    "i_integrada=sp.integrate(i,x)\n",
    "i_integrada "
   ]
  },
  {
   "cell_type": "code",
   "execution_count": 63,
   "id": "2dc066cd",
   "metadata": {},
   "outputs": [
    {
     "data": {
      "text/latex": [
       "$\\displaystyle \\left(\\tan{\\left(x \\right)} + \\sec{\\left(x \\right)}\\right) \\sec{\\left(x \\right)}$"
      ],
      "text/plain": [
       "(tan(x) + sec(x))*sec(x)"
      ]
     },
     "execution_count": 63,
     "metadata": {},
     "output_type": "execute_result"
    }
   ],
   "source": [
    "term1 = sp.sec(x)\n",
    "term2 = (sp.sec(x)+(sp.tan(x)))\n",
    "j= term1 * term2\n",
    "j"
   ]
  },
  {
   "cell_type": "code",
   "execution_count": 64,
   "id": "142de74a",
   "metadata": {},
   "outputs": [
    {
     "data": {
      "text/latex": [
       "$\\displaystyle \\tan{\\left(x \\right)} + \\sec{\\left(x \\right)}$"
      ],
      "text/plain": [
       "tan(x) + sec(x)"
      ]
     },
     "execution_count": 64,
     "metadata": {},
     "output_type": "execute_result"
    }
   ],
   "source": [
    "j_integrada=sp.integrate(j,x)\n",
    "j_integrada"
   ]
  },
  {
   "cell_type": "code",
   "execution_count": 50,
   "id": "0d0a2920",
   "metadata": {},
   "outputs": [
    {
     "data": {
      "text/latex": [
       "$\\displaystyle \\frac{x^{3}}{\\sqrt[3]{2 - x^{4}}}$"
      ],
      "text/plain": [
       "x**3/(2 - x**4)**(1/3)"
      ]
     },
     "execution_count": 50,
     "metadata": {},
     "output_type": "execute_result"
    }
   ],
   "source": [
    "k = x**3 / ( (2 - x**4)**(sp.Rational(1,3)) )\n",
    "k"
   ]
  },
  {
   "cell_type": "code",
   "execution_count": 51,
   "id": "8bfd3cd7",
   "metadata": {},
   "outputs": [
    {
     "data": {
      "text/latex": [
       "$\\displaystyle - \\frac{3 \\left(2 - x^{4}\\right)^{\\frac{2}{3}}}{8}$"
      ],
      "text/plain": [
       "-3*(2 - x**4)**(2/3)/8"
      ]
     },
     "execution_count": 51,
     "metadata": {},
     "output_type": "execute_result"
    }
   ],
   "source": [
    "k_integrada=sp.integrate(k,x)\n",
    "k_integrada"
   ]
  },
  {
   "cell_type": "code",
   "execution_count": 71,
   "id": "93951aaa",
   "metadata": {},
   "outputs": [
    {
     "data": {
      "text/latex": [
       "$\\displaystyle \\frac{e^{3 x}}{\\left(e^{3 x} + 2\\right)^{8}}$"
      ],
      "text/plain": [
       "exp(3*x)/(exp(3*x) + 2)**8"
      ]
     },
     "execution_count": 71,
     "metadata": {},
     "output_type": "execute_result"
    }
   ],
   "source": [
    "l=(sp.exp(3*x))/((2+sp.exp(3*x))**8)\n",
    "l"
   ]
  },
  {
   "cell_type": "code",
   "execution_count": 72,
   "id": "ef0b411b",
   "metadata": {},
   "outputs": [
    {
     "data": {
      "text/latex": [
       "$\\displaystyle - \\frac{1}{21 e^{21 x} + 294 e^{18 x} + 1764 e^{15 x} + 5880 e^{12 x} + 11760 e^{9 x} + 14112 e^{6 x} + 9408 e^{3 x} + 2688}$"
      ],
      "text/plain": [
       "-1/(21*exp(21*x) + 294*exp(18*x) + 1764*exp(15*x) + 5880*exp(12*x) + 11760*exp(9*x) + 14112*exp(6*x) + 9408*exp(3*x) + 2688)"
      ]
     },
     "execution_count": 72,
     "metadata": {},
     "output_type": "execute_result"
    }
   ],
   "source": [
    "l_integrada=sp.integrate(l,x)\n",
    "l_integrada"
   ]
  },
  {
   "cell_type": "code",
   "execution_count": 74,
   "id": "47fc1a45",
   "metadata": {},
   "outputs": [
    {
     "data": {
      "text/latex": [
       "$\\displaystyle \\frac{\\log{\\left(x \\right)}^{3} + \\log{\\left(x \\right)}}{x}$"
      ],
      "text/plain": [
       "(log(x)**3 + log(x))/x"
      ]
     },
     "execution_count": 74,
     "metadata": {},
     "output_type": "execute_result"
    }
   ],
   "source": [
    "m=((sp.ln(x))**3+sp.ln(x))/x\n",
    "m"
   ]
  },
  {
   "cell_type": "code",
   "execution_count": 75,
   "id": "191e28df",
   "metadata": {},
   "outputs": [
    {
     "data": {
      "text/latex": [
       "$\\displaystyle \\frac{\\log{\\left(x \\right)}^{4}}{4} + \\frac{\\log{\\left(x \\right)}^{2}}{2}$"
      ],
      "text/plain": [
       "log(x)**4/4 + log(x)**2/2"
      ]
     },
     "execution_count": 75,
     "metadata": {},
     "output_type": "execute_result"
    }
   ],
   "source": [
    "m_integrada=sp.integrate(m,x)\n",
    "m_integrada"
   ]
  },
  {
   "cell_type": "code",
   "execution_count": 76,
   "id": "17010899",
   "metadata": {},
   "outputs": [
    {
     "data": {
      "text/latex": [
       "$\\displaystyle \\sqrt{\\cos{\\left(2 x \\right)} + 1} \\sin{\\left(2 x \\right)}$"
      ],
      "text/plain": [
       "sqrt(cos(2*x) + 1)*sin(2*x)"
      ]
     },
     "execution_count": 76,
     "metadata": {},
     "output_type": "execute_result"
    }
   ],
   "source": [
    "term1 = sp.sin(2*x)\n",
    "term2 = sqrt(sp.cos(2*x)+1)\n",
    "n=term1*term2\n",
    "n"
   ]
  },
  {
   "cell_type": "code",
   "execution_count": 77,
   "id": "4a702526",
   "metadata": {},
   "outputs": [
    {
     "data": {
      "text/latex": [
       "$\\displaystyle - \\frac{\\sqrt{\\cos{\\left(2 x \\right)} + 1} \\cos{\\left(2 x \\right)}}{3} - \\frac{\\sqrt{\\cos{\\left(2 x \\right)} + 1}}{3}$"
      ],
      "text/plain": [
       "-sqrt(cos(2*x) + 1)*cos(2*x)/3 - sqrt(cos(2*x) + 1)/3"
      ]
     },
     "execution_count": 77,
     "metadata": {},
     "output_type": "execute_result"
    }
   ],
   "source": [
    "n_integrada=sp.integrate(n,x)\n",
    "n_integrada"
   ]
  },
  {
   "cell_type": "code",
   "execution_count": 13,
   "id": "8dd32cfc",
   "metadata": {},
   "outputs": [
    {
     "data": {
      "text/latex": [
       "$\\displaystyle \\frac{2 x^{3} + x}{\\sqrt{x^{4} + x^{2} + 1}}$"
      ],
      "text/plain": [
       "(2*x**3 + x)/sqrt(x**4 + x**2 + 1)"
      ]
     },
     "execution_count": 13,
     "metadata": {},
     "output_type": "execute_result"
    }
   ],
   "source": [
    "o = (2*x**3+x)/sqrt(x**4+x**2+1)\n",
    "o"
   ]
  },
  {
   "cell_type": "code",
   "execution_count": 14,
   "id": "46c5551b",
   "metadata": {},
   "outputs": [
    {
     "data": {
      "text/latex": [
       "$\\displaystyle \\sqrt{x^{4} + x^{2} + 1}$"
      ],
      "text/plain": [
       "sqrt(x**4 + x**2 + 1)"
      ]
     },
     "execution_count": 14,
     "metadata": {},
     "output_type": "execute_result"
    }
   ],
   "source": [
    "o_integrada=sp.integrate(o,x)\n",
    "o_integrada"
   ]
  },
  {
   "cell_type": "code",
   "execution_count": 15,
   "id": "2e16ad48",
   "metadata": {},
   "outputs": [
    {
     "data": {
      "text/latex": [
       "$\\displaystyle \\frac{\\tan^{3}{\\left(x \\right)}}{\\cos^{2}{\\left(x \\right)}}$"
      ],
      "text/plain": [
       "tan(x)**3/cos(x)**2"
      ]
     },
     "execution_count": 15,
     "metadata": {},
     "output_type": "execute_result"
    }
   ],
   "source": [
    "p=(sp.tan(x)**3)/(sp.cos(x)**2)\n",
    "p"
   ]
  },
  {
   "cell_type": "code",
   "execution_count": 16,
   "id": "b5bd90fc",
   "metadata": {},
   "outputs": [
    {
     "data": {
      "text/latex": [
       "$\\displaystyle \\frac{1 - 2 \\cos^{2}{\\left(x \\right)}}{4 \\cos^{4}{\\left(x \\right)}}$"
      ],
      "text/plain": [
       "(1 - 2*cos(x)**2)/(4*cos(x)**4)"
      ]
     },
     "execution_count": 16,
     "metadata": {},
     "output_type": "execute_result"
    }
   ],
   "source": [
    "p_integrada=sp.integrate(p,x)\n",
    "p_integrada"
   ]
  },
  {
   "cell_type": "code",
   "execution_count": 56,
   "id": "7f6b2ecb",
   "metadata": {},
   "outputs": [
    {
     "data": {
      "text/latex": [
       "$\\displaystyle \\frac{e^{\\sqrt[3]{x}}}{x^{\\frac{2}{3}}}$"
      ],
      "text/plain": [
       "exp(x**(1/3))/x**(2/3)"
      ]
     },
     "execution_count": 56,
     "metadata": {},
     "output_type": "execute_result"
    }
   ],
   "source": [
    "q=(sp.exp(x**(sp.Rational(1,3))))/(x**(sp.Rational(2,3)))\n",
    "q"
   ]
  },
  {
   "cell_type": "code",
   "execution_count": 57,
   "id": "2c69a52d",
   "metadata": {},
   "outputs": [
    {
     "data": {
      "text/latex": [
       "$\\displaystyle 3 e^{\\sqrt[3]{x}}$"
      ],
      "text/plain": [
       "3*exp(x**(1/3))"
      ]
     },
     "execution_count": 57,
     "metadata": {},
     "output_type": "execute_result"
    }
   ],
   "source": [
    "q_integrada=sp.integrate(q,x)\n",
    "q_integrada"
   ]
  },
  {
   "cell_type": "code",
   "execution_count": 26,
   "id": "d47db1cc",
   "metadata": {},
   "outputs": [
    {
     "data": {
      "text/latex": [
       "$\\displaystyle \\frac{3 x^{5} - x}{x^{6} - x^{2} + 4}$"
      ],
      "text/plain": [
       "(3*x**5 - x)/(x**6 - x**2 + 4)"
      ]
     },
     "execution_count": 26,
     "metadata": {},
     "output_type": "execute_result"
    }
   ],
   "source": [
    "r=(3*x**5-x)/(x**6-x**2+4)\n",
    "r"
   ]
  },
  {
   "cell_type": "code",
   "execution_count": 27,
   "id": "d7813adc",
   "metadata": {},
   "outputs": [
    {
     "data": {
      "text/latex": [
       "$\\displaystyle \\frac{\\log{\\left(x^{6} - x^{2} + 4 \\right)}}{2}$"
      ],
      "text/plain": [
       "log(x**6 - x**2 + 4)/2"
      ]
     },
     "execution_count": 27,
     "metadata": {},
     "output_type": "execute_result"
    }
   ],
   "source": [
    "r_integrada=sp.integrate(r,x)\n",
    "r_integrada"
   ]
  },
  {
   "cell_type": "code",
   "execution_count": 28,
   "id": "6dc9931c",
   "metadata": {},
   "outputs": [
    {
     "data": {
      "text/latex": [
       "$\\displaystyle \\frac{x e^{x^{2}}}{\\sqrt{e^{x^{2}} + 1}}$"
      ],
      "text/plain": [
       "x*exp(x**2)/sqrt(exp(x**2) + 1)"
      ]
     },
     "execution_count": 28,
     "metadata": {},
     "output_type": "execute_result"
    }
   ],
   "source": [
    "term1= x\n",
    "term2= sp.exp(x**2)\n",
    "\n",
    "s=(term1*term2)/(sqrt(1+sp.exp(x**2)))\n",
    "s"
   ]
  },
  {
   "cell_type": "code",
   "execution_count": 29,
   "id": "a0a8ea46",
   "metadata": {},
   "outputs": [
    {
     "data": {
      "text/latex": [
       "$\\displaystyle \\sqrt{e^{x^{2}} + 1}$"
      ],
      "text/plain": [
       "sqrt(exp(x**2) + 1)"
      ]
     },
     "execution_count": 29,
     "metadata": {},
     "output_type": "execute_result"
    }
   ],
   "source": [
    "s_integrada=sp.integrate(s,x)   \n",
    "s_integrada"
   ]
  },
  {
   "cell_type": "code",
   "execution_count": 30,
   "id": "3eb914ee",
   "metadata": {},
   "outputs": [
    {
     "data": {
      "text/latex": [
       "$\\displaystyle \\frac{1}{x \\left(3 \\log{\\left(x \\right)} + 2\\right)^{2}}$"
      ],
      "text/plain": [
       "1/(x*(3*log(x) + 2)**2)"
      ]
     },
     "execution_count": 30,
     "metadata": {},
     "output_type": "execute_result"
    }
   ],
   "source": [
    "term1= x\n",
    "term2 = 3\n",
    "t=1/(term1*(2+term2*(sp.ln(x)))**2)\n",
    "t"
   ]
  },
  {
   "cell_type": "code",
   "execution_count": 31,
   "id": "3445e778",
   "metadata": {},
   "outputs": [
    {
     "data": {
      "text/latex": [
       "$\\displaystyle - \\frac{1}{9 \\log{\\left(x \\right)} + 6}$"
      ],
      "text/plain": [
       "-1/(9*log(x) + 6)"
      ]
     },
     "execution_count": 31,
     "metadata": {},
     "output_type": "execute_result"
    }
   ],
   "source": [
    "t_integrada = sp.integrate(t,x )\n",
    "t_integrada"
   ]
  },
  {
   "cell_type": "code",
   "execution_count": 32,
   "id": "4c305847",
   "metadata": {},
   "outputs": [
    {
     "data": {
      "text/latex": [
       "$\\displaystyle x^{5} e^{2 x}$"
      ],
      "text/plain": [
       "x**5*exp(2*x)"
      ]
     },
     "execution_count": 32,
     "metadata": {},
     "output_type": "execute_result"
    }
   ],
   "source": [
    "term1= x**5\n",
    "term2= sp.exp(2*x)\n",
    "u=term1*term2\n",
    "u"
   ]
  },
  {
   "cell_type": "code",
   "execution_count": 33,
   "id": "f759a3ec",
   "metadata": {},
   "outputs": [
    {
     "data": {
      "text/latex": [
       "$\\displaystyle \\frac{\\left(4 x^{5} - 10 x^{4} + 20 x^{3} - 30 x^{2} + 30 x - 15\\right) e^{2 x}}{8}$"
      ],
      "text/plain": [
       "(4*x**5 - 10*x**4 + 20*x**3 - 30*x**2 + 30*x - 15)*exp(2*x)/8"
      ]
     },
     "execution_count": 33,
     "metadata": {},
     "output_type": "execute_result"
    }
   ],
   "source": [
    "u_integrada=sp.integrate(u,x)\n",
    "u_integrada"
   ]
  },
  {
   "cell_type": "code",
   "execution_count": null,
   "id": "a96f61be",
   "metadata": {},
   "outputs": [
    {
     "data": {
      "text/latex": [
       "$\\displaystyle \\left(4 x + 1\\right) \\log{\\left(x \\right)}$"
      ],
      "text/plain": [
       "(4*x + 1)*log(x)"
      ]
     },
     "execution_count": 34,
     "metadata": {},
     "output_type": "execute_result"
    }
   ],
   "source": [
    "term1= 4*x+1\n",
    "term2= sp.ln(x)\n",
    "v=term1*term2\n",
    "v"
   ]
  },
  {
   "cell_type": "code",
   "execution_count": 35,
   "id": "921f9dbc",
   "metadata": {},
   "outputs": [
    {
     "data": {
      "text/latex": [
       "$\\displaystyle - x^{2} - x + \\left(2 x^{2} + x\\right) \\log{\\left(x \\right)}$"
      ],
      "text/plain": [
       "-x**2 - x + (2*x**2 + x)*log(x)"
      ]
     },
     "execution_count": 35,
     "metadata": {},
     "output_type": "execute_result"
    }
   ],
   "source": [
    "v_integrada=sp.integrate(v,x)\n",
    "v_integrada"
   ]
  },
  {
   "cell_type": "code",
   "execution_count": 36,
   "id": "d576b5c5",
   "metadata": {},
   "outputs": [
    {
     "data": {
      "text/latex": [
       "$\\displaystyle x^{3} \\sin{\\left(4 x \\right)}$"
      ],
      "text/plain": [
       "x**3*sin(4*x)"
      ]
     },
     "execution_count": 36,
     "metadata": {},
     "output_type": "execute_result"
    }
   ],
   "source": [
    "term1=x**3\n",
    "term2=sp.sin(4*x)\n",
    "w=term1*term2\n",
    "w"
   ]
  },
  {
   "cell_type": "code",
   "execution_count": 37,
   "id": "9d9e1099",
   "metadata": {},
   "outputs": [
    {
     "data": {
      "text/latex": [
       "$\\displaystyle - \\frac{x^{3} \\cos{\\left(4 x \\right)}}{4} + \\frac{3 x^{2} \\sin{\\left(4 x \\right)}}{16} + \\frac{3 x \\cos{\\left(4 x \\right)}}{32} - \\frac{3 \\sin{\\left(4 x \\right)}}{128}$"
      ],
      "text/plain": [
       "-x**3*cos(4*x)/4 + 3*x**2*sin(4*x)/16 + 3*x*cos(4*x)/32 - 3*sin(4*x)/128"
      ]
     },
     "execution_count": 37,
     "metadata": {},
     "output_type": "execute_result"
    }
   ],
   "source": [
    "w_integrada=sp.integrate(w,x)\n",
    "w_integrada"
   ]
  },
  {
   "cell_type": "code",
   "execution_count": 64,
   "id": "4ae48514",
   "metadata": {},
   "outputs": [
    {
     "data": {
      "text/latex": [
       "$\\displaystyle \\sqrt{x} \\log{\\left(x \\right)}$"
      ],
      "text/plain": [
       "sqrt(x)*log(x)"
      ]
     },
     "execution_count": 64,
     "metadata": {},
     "output_type": "execute_result"
    }
   ],
   "source": [
    "x = sp.Symbol('x', positive=True)\n",
    "term1=sp.ln(x)\n",
    "term2=sp.sqrt(x)\n",
    "y=term1*term2\n",
    "y\n"
   ]
  },
  {
   "cell_type": "code",
   "execution_count": 66,
   "id": "5130d7a5",
   "metadata": {},
   "outputs": [
    {
     "data": {
      "text/latex": [
       "$\\displaystyle \\begin{cases} 0 & \\text{for}\\: \\frac{1}{x} < 1 \\wedge x < 1 \\\\\\frac{2 x^{\\frac{3}{2}} \\log{\\left(x \\right)}}{3} - \\frac{4 x^{\\frac{3}{2}}}{9} & \\text{for}\\: x < 1 \\\\\\frac{2 x^{\\frac{3}{2}} \\log{\\left(x \\right)}}{3} - \\frac{4 x^{\\frac{3}{2}}}{9} & \\text{for}\\: \\frac{1}{x} < 1 \\\\- x^{\\frac{3}{2}} {G_{3, 3}^{2, 1}\\left(\\begin{matrix} - \\frac{1}{2} & 1, 1 \\\\0, 0 & - \\frac{3}{2} \\end{matrix} \\middle| {x} \\right)} + x^{\\frac{3}{2}} {G_{3, 3}^{0, 3}\\left(\\begin{matrix} - \\frac{1}{2}, 1, 1 &  \\\\ & - \\frac{3}{2}, 0, 0 \\end{matrix} \\middle| {x} \\right)} & \\text{otherwise} \\end{cases}$"
      ],
      "text/plain": [
       "Piecewise((0, (x < 1) & (1/x < 1)), (2*x**(3/2)*log(x)/3 - 4*x**(3/2)/9, x < 1), (2*x**(3/2)*log(x)/3 - 4*x**(3/2)/9, 1/x < 1), (-x**(3/2)*meijerg(((-1/2,), (1, 1)), ((0, 0), (-3/2,)), x) + x**(3/2)*meijerg(((-1/2, 1, 1), ()), ((), (-3/2, 0, 0)), x), True))"
      ]
     },
     "execution_count": 66,
     "metadata": {},
     "output_type": "execute_result"
    }
   ],
   "source": [
    "y_integrada=sp.integrate(y,x)\n",
    "y_integrada"
   ]
  },
  {
   "cell_type": "code",
   "execution_count": 47,
   "id": "5e0885c5",
   "metadata": {},
   "outputs": [
    {
     "data": {
      "text/latex": [
       "$\\displaystyle \\left(x^{2} - 2\\right) e^{5 x}$"
      ],
      "text/plain": [
       "(x**2 - 2)*exp(5*x)"
      ]
     },
     "execution_count": 47,
     "metadata": {},
     "output_type": "execute_result"
    }
   ],
   "source": [
    "term1= x**2-2\n",
    "term2= sp.exp(5*x)\n",
    "z=term1*term2\n",
    "z"
   ]
  },
  {
   "cell_type": "code",
   "execution_count": 48,
   "id": "b89b23b8",
   "metadata": {},
   "outputs": [
    {
     "data": {
      "text/latex": [
       "$\\displaystyle \\frac{\\left(25 x^{2} - 10 x - 48\\right) e^{5 x}}{125}$"
      ],
      "text/plain": [
       "(25*x**2 - 10*x - 48)*exp(5*x)/125"
      ]
     },
     "execution_count": 48,
     "metadata": {},
     "output_type": "execute_result"
    }
   ],
   "source": [
    "z_integrada=sp.integrate(z,x)\n",
    "z_integrada"
   ]
  }
 ],
 "metadata": {
  "kernelspec": {
   "display_name": "Python 3",
   "language": "python",
   "name": "python3"
  },
  "language_info": {
   "codemirror_mode": {
    "name": "ipython",
    "version": 3
   },
   "file_extension": ".py",
   "mimetype": "text/x-python",
   "name": "python",
   "nbconvert_exporter": "python",
   "pygments_lexer": "ipython3",
   "version": "3.13.1"
  }
 },
 "nbformat": 4,
 "nbformat_minor": 5
}
